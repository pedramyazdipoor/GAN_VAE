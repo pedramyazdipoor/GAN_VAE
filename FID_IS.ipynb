{
  "nbformat": 4,
  "nbformat_minor": 0,
  "metadata": {
    "colab": {
      "provenance": []
    },
    "kernelspec": {
      "name": "python3",
      "display_name": "Python 3"
    },
    "language_info": {
      "name": "python"
    },
    "accelerator": "GPU",
    "gpuClass": "standard"
  },
  "cells": [
    {
      "cell_type": "code",
      "execution_count": 1,
      "metadata": {
        "id": "ldVfRwqFd6gU"
      },
      "outputs": [],
      "source": [
        "from keras.models import load_model\n",
        "import numpy as np\n",
        "import tensorflow as tf\n",
        "from tensorflow import keras\n",
        "from tensorflow.keras import layers\n",
        "%matplotlib inline\n",
        "import matplotlib.pyplot as plt\n",
        "from tensorflow.keras.layers import Dropout\n",
        "import numpy as np\n",
        "import cv2\n",
        "import os\n",
        "from numpy import asarray"
      ]
    },
    {
      "cell_type": "code",
      "source": [
        "from google.colab import drive\n",
        "drive.mount('/content/drive')"
      ],
      "metadata": {
        "colab": {
          "base_uri": "https://localhost:8080/"
        },
        "id": "P-lK0x1Xi5-9",
        "outputId": "3e3c502d-95fa-40c5-8587-382a06bc3571"
      },
      "execution_count": 2,
      "outputs": [
        {
          "output_type": "stream",
          "name": "stdout",
          "text": [
            "Mounted at /content/drive\n"
          ]
        }
      ]
    },
    {
      "cell_type": "code",
      "source": [
        "class Sampling(layers.Layer):\n",
        "    def call(self, inputs):\n",
        "        z_mean, z_log_var = inputs\n",
        "        batch = tf.shape(z_mean)[0]\n",
        "        dim = tf.shape(z_mean)[1]\n",
        "        epsilon = tf.keras.backend.random_normal(shape=(batch, dim))\n",
        "        return z_mean + tf.exp(0.5 * z_log_var) * epsilon"
      ],
      "metadata": {
        "id": "8r_hrcfsi-jF"
      },
      "execution_count": 3,
      "outputs": []
    },
    {
      "cell_type": "code",
      "source": [
        "encoder = load_model('/content/drive/MyDrive/Models/enc6.h5', custom_objects={'Sampling': Sampling})\n",
        "generator = load_model('/content/drive/MyDrive/Models/gen6.h5')"
      ],
      "metadata": {
        "colab": {
          "base_uri": "https://localhost:8080/"
        },
        "id": "M0M3vJNXjAvz",
        "outputId": "c1ccccb9-4c61-4a29-f061-c4c581a11644"
      },
      "execution_count": 13,
      "outputs": [
        {
          "output_type": "stream",
          "name": "stderr",
          "text": [
            "WARNING:tensorflow:No training configuration found in the save file, so the model was *not* compiled. Compile it manually.\n",
            "WARNING:tensorflow:No training configuration found in the save file, so the model was *not* compiled. Compile it manually.\n"
          ]
        }
      ]
    },
    {
      "cell_type": "code",
      "source": [
        "def read_images(path, isNormalized, width, height):\n",
        "  i = 0\n",
        "  instances = []\n",
        "  for image in os.listdir(path):\n",
        "    i += 1\n",
        "    img = cv2.imread(path+image)\n",
        "    output = cv2.resize(img, (width,height))\n",
        "    if isNormalized == True :\n",
        "      normalizedImg = np.zeros((width, height))\n",
        "      normalizedImg = cv2.normalize(output,  normalizedImg, 0, 1, cv2.NORM_MINMAX)\n",
        "      numpydata = asarray(normalizedImg)\n",
        "    else:\n",
        "      numpydata = asarray(output)\n",
        "    instances.append(numpydata)  \n",
        "    if i % 500 == 0 : print(i)\n",
        "  return np.array(instances)"
      ],
      "metadata": {
        "id": "vF6kqR6tjhRh"
      },
      "execution_count": 5,
      "outputs": []
    },
    {
      "cell_type": "code",
      "source": [
        "real_data = read_images('/content/drive/MyDrive/AGB_224/', False, 224, 224)\n",
        "real_data.shape"
      ],
      "metadata": {
        "colab": {
          "base_uri": "https://localhost:8080/"
        },
        "id": "zyuwgG-vj1lf",
        "outputId": "b97c14f2-fc8d-4f73-f61e-1437aaa2bcf3"
      },
      "execution_count": 14,
      "outputs": [
        {
          "output_type": "stream",
          "name": "stdout",
          "text": [
            "500\n",
            "1000\n",
            "1500\n",
            "2000\n"
          ]
        },
        {
          "output_type": "execute_result",
          "data": {
            "text/plain": [
              "(2413, 224, 224, 3)"
            ]
          },
          "metadata": {},
          "execution_count": 14
        }
      ]
    },
    {
      "cell_type": "code",
      "source": [
        "batch_size = 64\n",
        "encoder.trainable = False \n",
        "generator.trainable = False \n",
        "counter = 0\n",
        "for i in range(0,len(real_data) // batch_size):\n",
        "  tmp_z = encoder(real_data[i*batch_size:(i+1)*batch_size])\n",
        "  z = np.array(tmp_z)[2]\n",
        "  generated = generator.predict_on_batch(z)\n",
        "  for j in range(0,batch_size):\n",
        "    counter += 1\n",
        "    if counter % 500 == 0:\n",
        "      print(counter)\n",
        "    cv2.imwrite('/content/drive/MyDrive/generated_6/image_'+str(counter)+'.jpg', ((generated[j]+ 1)* 127).astype(np.uint8))"
      ],
      "metadata": {
        "colab": {
          "base_uri": "https://localhost:8080/"
        },
        "id": "73R2xttPkL-m",
        "outputId": "77090d0b-b739-4d4f-ad9e-13cd3f3c41ef"
      },
      "execution_count": 15,
      "outputs": [
        {
          "output_type": "stream",
          "name": "stdout",
          "text": [
            "500\n",
            "1000\n",
            "1500\n",
            "2000\n"
          ]
        }
      ]
    },
    {
      "cell_type": "code",
      "source": [
        "import numpy\n",
        "from numpy import cov\n",
        "from numpy import trace\n",
        "from numpy import iscomplexobj\n",
        "from numpy import asarray\n",
        "from numpy.random import shuffle\n",
        "from scipy.linalg import sqrtm\n",
        "from keras.applications.inception_v3 import InceptionV3\n",
        "from keras.applications.inception_v3 import preprocess_input\n",
        "from keras.datasets.mnist import load_data\n",
        "\n",
        "\n",
        "# calculate frechet inception distance\n",
        "def calculate_fid(model, images1, images2):\n",
        "\t# calculate activations\n",
        "\tact1 = model.predict(images1)\n",
        "\tact2 = model.predict(images2)\n",
        "\t# calculate mean and covariance statistics\n",
        "\tmu1, sigma1 = act1.mean(axis=0), cov(act1, rowvar=False)\n",
        "\tmu2, sigma2 = act2.mean(axis=0), cov(act2, rowvar=False)\n",
        "\t# calculate sum squared difference between means\n",
        "\tssdiff = numpy.sum((mu1 - mu2)**2.0)\n",
        "\t# calculate sqrt of product between cov\n",
        "\tcovmean = sqrtm(sigma1.dot(sigma2))\n",
        "\t# check and correct imaginary numbers from sqrt\n",
        "\tif iscomplexobj(covmean):\n",
        "\t\tcovmean = covmean.real\n",
        "\t# calculate score\n",
        "\tfid = ssdiff + trace(sigma1 + sigma2 - 2.0 * covmean)\n",
        "\treturn fid\n",
        "\n",
        "model = InceptionV3(include_top=False, pooling='avg', input_shape=(75,75,3))"
      ],
      "metadata": {
        "id": "VeYRf5l0jl3Q"
      },
      "execution_count": 11,
      "outputs": []
    },
    {
      "cell_type": "code",
      "source": [
        "real_images = read_images('/content/drive/MyDrive/AGB_224/', False, 75, 75)\n",
        "generated_images = read_images('/content/drive/MyDrive/generated_2/', False, 75, 75)\n",
        "print('Loaded: ', real_images.shape, generated_images.shape)\n",
        "images1 = real_images.astype('float32')\n",
        "images2 = generated_images.astype('float32')\n",
        "images1 = preprocess_input(images1)\n",
        "images2 = preprocess_input(images2)\n",
        "fid = calculate_fid(model, images1[:2300], images2[:2300])\n",
        "print('FID: %.3f' % fid)"
      ],
      "metadata": {
        "colab": {
          "base_uri": "https://localhost:8080/"
        },
        "id": "i1ySnAtlrheN",
        "outputId": "4d2fc4cb-e9ca-48e1-8ef9-c2cb6b17e5b9"
      },
      "execution_count": 12,
      "outputs": [
        {
          "output_type": "stream",
          "name": "stdout",
          "text": [
            "500\n",
            "1000\n",
            "1500\n",
            "2000\n",
            "500\n",
            "1000\n",
            "1500\n",
            "2000\n",
            "Loaded:  (2413, 75, 75, 3) (2368, 75, 75, 3)\n",
            "72/72 [==============================] - 2s 15ms/step\n",
            "72/72 [==============================] - 1s 14ms/step\n",
            "FID: 417.510\n"
          ]
        }
      ]
    },
    {
      "cell_type": "code",
      "source": [
        "real_images = read_images('/content/drive/MyDrive/AGB_224/', False, 75, 75)\n",
        "generated_images = read_images('/content/drive/MyDrive/generated_3/', False, 75, 75)\n",
        "print('Loaded: ', real_images.shape, generated_images.shape)\n",
        "images1 = real_images.astype('float32')\n",
        "images2 = generated_images.astype('float32')\n",
        "images1 = preprocess_input(images1)\n",
        "images2 = preprocess_input(images2)\n",
        "fid = calculate_fid(model, images1[:2300], images2[:2300])\n",
        "print('FID: %.3f' % fid)"
      ],
      "metadata": {
        "colab": {
          "base_uri": "https://localhost:8080/"
        },
        "id": "mVQ3SadNrwxc",
        "outputId": "56360dad-bca7-41ad-9092-321b0748d757"
      },
      "execution_count": 16,
      "outputs": [
        {
          "output_type": "stream",
          "name": "stdout",
          "text": [
            "500\n",
            "1000\n",
            "1500\n",
            "2000\n",
            "500\n",
            "1000\n",
            "1500\n",
            "2000\n",
            "Loaded:  (2413, 75, 75, 3) (2368, 75, 75, 3)\n",
            "72/72 [==============================] - 1s 15ms/step\n",
            "72/72 [==============================] - 1s 15ms/step\n",
            "FID: 761.287\n"
          ]
        }
      ]
    },
    {
      "cell_type": "code",
      "source": [
        "real_images = read_images('/content/drive/MyDrive/AGB_224/', False, 75, 75)\n",
        "generated_images = read_images('/content/drive/MyDrive/generated_4/', False, 75, 75)\n",
        "print('Loaded: ', real_images.shape, generated_images.shape)\n",
        "images1 = real_images.astype('float32')\n",
        "images2 = generated_images.astype('float32')\n",
        "images1 = preprocess_input(images1)\n",
        "images2 = preprocess_input(images2)\n",
        "fid = calculate_fid(model, images1[:2300], images2[:2300])\n",
        "print('FID: %.3f' % fid)"
      ],
      "metadata": {
        "colab": {
          "base_uri": "https://localhost:8080/"
        },
        "id": "lvb4i3-QsNKN",
        "outputId": "51047aef-ef16-4a69-8e0c-1f5b2d9cd130"
      },
      "execution_count": 18,
      "outputs": [
        {
          "output_type": "stream",
          "name": "stdout",
          "text": [
            "500\n",
            "1000\n",
            "1500\n",
            "2000\n",
            "500\n",
            "1000\n",
            "1500\n",
            "2000\n",
            "Loaded:  (2413, 75, 75, 3) (2368, 75, 75, 3)\n",
            "72/72 [==============================] - 1s 15ms/step\n",
            "72/72 [==============================] - 1s 14ms/step\n",
            "FID: 448.770\n"
          ]
        }
      ]
    },
    {
      "cell_type": "code",
      "source": [
        "real_images = read_images('/content/drive/MyDrive/AGB_224/', False, 75, 75)\n",
        "generated_images = read_images('/content/drive/MyDrive/generated_5/', False, 75, 75)\n",
        "print('Loaded: ', real_images.shape, generated_images.shape)\n",
        "images1 = real_images.astype('float32')\n",
        "images2 = generated_images.astype('float32')\n",
        "images1 = preprocess_input(images1)\n",
        "images2 = preprocess_input(images2)\n",
        "fid = calculate_fid(model, images1[:2300], images2[:2300])\n",
        "print('FID: %.3f' % fid)"
      ],
      "metadata": {
        "colab": {
          "base_uri": "https://localhost:8080/"
        },
        "id": "UjA1hFmigxjp",
        "outputId": "17e9bfeb-44a7-4633-a900-9a31a3e2f027"
      },
      "execution_count": 19,
      "outputs": [
        {
          "output_type": "stream",
          "name": "stdout",
          "text": [
            "500\n",
            "1000\n",
            "1500\n",
            "2000\n",
            "500\n",
            "1000\n",
            "1500\n",
            "2000\n",
            "Loaded:  (2413, 75, 75, 3) (2368, 75, 75, 3)\n",
            "72/72 [==============================] - 1s 15ms/step\n",
            "72/72 [==============================] - 1s 20ms/step\n",
            "FID: 407.834\n"
          ]
        }
      ]
    },
    {
      "cell_type": "code",
      "source": [
        "real_images = read_images('/content/drive/MyDrive/AGB_224/', False, 75, 75)\n",
        "generated_images = read_images('/content/drive/MyDrive/generated_6/', False, 75, 75)\n",
        "print('Loaded: ', real_images.shape, generated_images.shape)\n",
        "images1 = real_images.astype('float32')\n",
        "images2 = generated_images.astype('float32')\n",
        "images1 = preprocess_input(images1)\n",
        "images2 = preprocess_input(images2)\n",
        "fid = calculate_fid(model, images1[:2300], images2[:2300])\n",
        "print('FID: %.3f' % fid)"
      ],
      "metadata": {
        "colab": {
          "base_uri": "https://localhost:8080/"
        },
        "id": "kWlacC6bhAY1",
        "outputId": "51c049be-4127-4a29-945f-fe75cd9e1e54"
      },
      "execution_count": 20,
      "outputs": [
        {
          "output_type": "stream",
          "name": "stdout",
          "text": [
            "500\n",
            "1000\n",
            "1500\n",
            "2000\n",
            "500\n",
            "1000\n",
            "1500\n",
            "2000\n",
            "Loaded:  (2413, 75, 75, 3) (2368, 75, 75, 3)\n",
            "72/72 [==============================] - 1s 15ms/step\n",
            "72/72 [==============================] - 1s 14ms/step\n",
            "FID: 632.158\n"
          ]
        }
      ]
    },
    {
      "cell_type": "code",
      "source": [
        "real_images = read_images('/content/drive/MyDrive/AGB_224/', False, 75, 75)\n",
        "generated_images = read_images('/content/drive/MyDrive/GAN/', False, 75, 75)\n",
        "print('Loaded: ', real_images.shape, generated_images.shape)\n",
        "images1 = real_images.astype('float32')\n",
        "images2 = generated_images.astype('float32')\n",
        "images1 = preprocess_input(images1)\n",
        "images2 = preprocess_input(images2)\n",
        "fid = calculate_fid(model, images1[:700], images2[:700])\n",
        "print('FID: %.3f' % fid)"
      ],
      "metadata": {
        "colab": {
          "base_uri": "https://localhost:8080/"
        },
        "id": "JrZOCNmMtYZG",
        "outputId": "7a45c0f9-73f4-4f88-9aea-39538c3b562f"
      },
      "execution_count": 21,
      "outputs": [
        {
          "output_type": "stream",
          "name": "stdout",
          "text": [
            "500\n",
            "1000\n",
            "1500\n",
            "2000\n",
            "500\n",
            "Loaded:  (2413, 75, 75, 3) (707, 75, 75, 3)\n",
            "22/22 [==============================] - 0s 16ms/step\n",
            "22/22 [==============================] - 1s 22ms/step\n",
            "FID: 99.963\n"
          ]
        }
      ]
    },
    {
      "cell_type": "code",
      "source": [
        "from math import floor\n",
        "from numpy import ones\n",
        "from numpy import expand_dims\n",
        "from numpy import log\n",
        "from numpy import mean\n",
        "from numpy import std\n",
        "from numpy import exp\n",
        "from numpy.random import shuffle\n",
        "from keras.applications.inception_v3 import InceptionV3\n",
        "from keras.applications.inception_v3 import preprocess_input\n",
        "from keras.datasets import cifar10\n",
        "from numpy import asarray\n",
        "\n",
        "\n",
        "# assumes images have any shape and pixels in [0,255]\n",
        "def calculate_inception_score(images, n_split=10, eps=1E-16):\n",
        "\t# load inception v3 model\n",
        "\tmodel = InceptionV3()\n",
        "\t# enumerate splits of images/predictions\n",
        "\tscores = list()\n",
        "\tn_part = floor(images.shape[0] / n_split)\n",
        "\tfor i in range(n_split):\n",
        "\t\t# retrieve images\n",
        "\t\tix_start, ix_end = i * n_part, (i+1) * n_part\n",
        "\t\tsubset = images[ix_start:ix_end]\n",
        "\t\t# convert from uint8 to float32\n",
        "\t\tsubset = subset.astype('float32')\n",
        "\t\t# pre-process images, scale to [-1,1]\n",
        "\t\tsubset = preprocess_input(subset)\n",
        "\t\t# predict p(y|x)\n",
        "\t\tp_yx = model.predict(subset)\n",
        "\t\t# calculate p(y)\n",
        "\t\tp_y = expand_dims(p_yx.mean(axis=0), 0)\n",
        "\t\t# calculate KL divergence using log probabilities\n",
        "\t\tkl_d = p_yx * (log(p_yx + eps) - log(p_y + eps))\n",
        "\t\t# sum over classes\n",
        "\t\tsum_kl_d = kl_d.sum(axis=1)\n",
        "\t\t# average over images\n",
        "\t\tavg_kl_d = mean(sum_kl_d)\n",
        "\t\t# undo the log\n",
        "\t\tis_score = exp(avg_kl_d)\n",
        "\t\t# store\n",
        "\t\tscores.append(is_score)\n",
        "\t# average across images\n",
        "\tis_avg, is_std = mean(scores), std(scores)\n",
        "\treturn is_avg, is_std\n",
        "\n",
        "\n",
        "generated_images = read_images('/content/drive/MyDrive/GAN/', False, 299, 299)\n",
        "is_avg, is_std = calculate_inception_score(generated_images)\n",
        "print('score', is_avg, is_std)"
      ],
      "metadata": {
        "colab": {
          "base_uri": "https://localhost:8080/"
        },
        "id": "eCQT-OR98NYo",
        "outputId": "8535978d-5262-4754-8061-cbe9c202d761"
      },
      "execution_count": 22,
      "outputs": [
        {
          "output_type": "stream",
          "name": "stdout",
          "text": [
            "500\n",
            "Downloading data from https://storage.googleapis.com/tensorflow/keras-applications/inception_v3/inception_v3_weights_tf_dim_ordering_tf_kernels.h5\n",
            "96112376/96112376 [==============================] - 5s 0us/step\n",
            "3/3 [==============================] - 5s 668ms/step\n",
            "3/3 [==============================] - 0s 141ms/step\n",
            "3/3 [==============================] - 0s 120ms/step\n",
            "3/3 [==============================] - 0s 116ms/step\n",
            "3/3 [==============================] - 0s 113ms/step\n",
            "3/3 [==============================] - 0s 116ms/step\n",
            "3/3 [==============================] - 0s 111ms/step\n",
            "3/3 [==============================] - 0s 116ms/step\n",
            "3/3 [==============================] - 0s 115ms/step\n",
            "3/3 [==============================] - 0s 114ms/step\n",
            "score 2.2334046 0.1424676\n"
          ]
        }
      ]
    },
    {
      "cell_type": "code",
      "source": [
        "generated_images = read_images('/content/drive/MyDrive/generated_2/', False, 299, 299)\n",
        "is_avg, is_std = calculate_inception_score(generated_images)\n",
        "print('score', is_avg, is_std)"
      ],
      "metadata": {
        "colab": {
          "base_uri": "https://localhost:8080/"
        },
        "id": "sl7zWhkj93Wh",
        "outputId": "a4377f03-eef9-4f39-bdac-8fcac5b1d80a"
      },
      "execution_count": 12,
      "outputs": [
        {
          "output_type": "stream",
          "name": "stdout",
          "text": [
            "500\n",
            "1000\n",
            "1500\n",
            "2000\n",
            "8/8 [==============================] - 3s 300ms/step\n",
            "8/8 [==============================] - 1s 104ms/step\n",
            "8/8 [==============================] - 1s 105ms/step\n",
            "8/8 [==============================] - 1s 99ms/step\n",
            "8/8 [==============================] - 1s 105ms/step\n",
            "8/8 [==============================] - 1s 105ms/step\n",
            "8/8 [==============================] - 1s 105ms/step\n",
            "8/8 [==============================] - 1s 105ms/step\n",
            "8/8 [==============================] - 1s 103ms/step\n",
            "8/8 [==============================] - 1s 106ms/step\n",
            "score 1.4731474 0.23376875\n"
          ]
        }
      ]
    },
    {
      "cell_type": "code",
      "source": [
        "generated_images = read_images('/content/drive/MyDrive/generated_3/', False, 299, 299)\n",
        "is_avg, is_std = calculate_inception_score(generated_images)\n",
        "print('score', is_avg, is_std)"
      ],
      "metadata": {
        "colab": {
          "base_uri": "https://localhost:8080/"
        },
        "id": "U8nbaBMr-LFv",
        "outputId": "62ef155c-3bf2-46a0-a4ca-bed91fd2ecd3"
      },
      "execution_count": 13,
      "outputs": [
        {
          "output_type": "stream",
          "name": "stdout",
          "text": [
            "500\n",
            "1000\n",
            "1500\n",
            "2000\n",
            "8/8 [==============================] - 3s 116ms/step\n",
            "8/8 [==============================] - 1s 101ms/step\n",
            "8/8 [==============================] - 1s 103ms/step\n",
            "8/8 [==============================] - 1s 104ms/step\n",
            "8/8 [==============================] - 1s 104ms/step\n",
            "8/8 [==============================] - 1s 105ms/step\n",
            "8/8 [==============================] - 1s 104ms/step\n",
            "8/8 [==============================] - 1s 105ms/step\n",
            "8/8 [==============================] - 1s 104ms/step\n",
            "8/8 [==============================] - 1s 101ms/step\n",
            "score 1.5378238 0.24459374\n"
          ]
        }
      ]
    },
    {
      "cell_type": "code",
      "source": [
        "generated_images = read_images('/content/drive/MyDrive/generated_4/', False, 299, 299)\n",
        "is_avg, is_std = calculate_inception_score(generated_images)\n",
        "print('score', is_avg, is_std)"
      ],
      "metadata": {
        "colab": {
          "base_uri": "https://localhost:8080/"
        },
        "id": "f57LvjMD-bMP",
        "outputId": "a9a58251-9633-4aac-be25-722a5ed7663f"
      },
      "execution_count": 14,
      "outputs": [
        {
          "output_type": "stream",
          "name": "stdout",
          "text": [
            "500\n",
            "1000\n",
            "1500\n",
            "2000\n",
            "8/8 [==============================] - 3s 107ms/step\n",
            "8/8 [==============================] - 1s 102ms/step\n",
            "8/8 [==============================] - 1s 103ms/step\n",
            "8/8 [==============================] - 1s 105ms/step\n",
            "8/8 [==============================] - 1s 103ms/step\n",
            "8/8 [==============================] - 1s 102ms/step\n",
            "8/8 [==============================] - 1s 102ms/step\n",
            "8/8 [==============================] - 1s 103ms/step\n",
            "8/8 [==============================] - 1s 103ms/step\n",
            "8/8 [==============================] - 1s 102ms/step\n",
            "score 1.500274 0.120681375\n"
          ]
        }
      ]
    },
    {
      "cell_type": "code",
      "source": [
        "generated_images = read_images('/content/drive/MyDrive/generated_5/', False, 299, 299)\n",
        "is_avg, is_std = calculate_inception_score(generated_images)\n",
        "print('score', is_avg, is_std)"
      ],
      "metadata": {
        "colab": {
          "base_uri": "https://localhost:8080/"
        },
        "id": "e7OxlR5cjYGJ",
        "outputId": "4f722cb5-4b26-4f0f-d7a5-e2121aaa7411"
      },
      "execution_count": 23,
      "outputs": [
        {
          "output_type": "stream",
          "name": "stdout",
          "text": [
            "500\n",
            "1000\n",
            "1500\n",
            "2000\n",
            "8/8 [==============================] - 3s 319ms/step\n",
            "8/8 [==============================] - 1s 112ms/step\n",
            "8/8 [==============================] - 1s 113ms/step\n",
            "8/8 [==============================] - 1s 111ms/step\n",
            "8/8 [==============================] - 1s 112ms/step\n",
            "8/8 [==============================] - 1s 112ms/step\n",
            "8/8 [==============================] - 1s 113ms/step\n",
            "8/8 [==============================] - 1s 115ms/step\n",
            "8/8 [==============================] - 1s 114ms/step\n",
            "8/8 [==============================] - 1s 114ms/step\n",
            "score 1.514185 0.17816958\n"
          ]
        }
      ]
    },
    {
      "cell_type": "code",
      "source": [
        "generated_images = read_images('/content/drive/MyDrive/generated_6/', False, 299, 299)\n",
        "is_avg, is_std = calculate_inception_score(generated_images)\n",
        "print('score', is_avg, is_std)"
      ],
      "metadata": {
        "colab": {
          "base_uri": "https://localhost:8080/"
        },
        "id": "imL8I2vUjYQC",
        "outputId": "e9a818a6-4151-4916-9221-98b246f5f633"
      },
      "execution_count": 24,
      "outputs": [
        {
          "output_type": "stream",
          "name": "stdout",
          "text": [
            "500\n",
            "1000\n",
            "1500\n",
            "2000\n",
            "8/8 [==============================] - 3s 120ms/step\n",
            "8/8 [==============================] - 1s 111ms/step\n",
            "8/8 [==============================] - 1s 110ms/step\n",
            "8/8 [==============================] - 1s 110ms/step\n",
            "8/8 [==============================] - 1s 111ms/step\n",
            "8/8 [==============================] - 1s 111ms/step\n",
            "8/8 [==============================] - 1s 112ms/step\n",
            "8/8 [==============================] - 1s 112ms/step\n",
            "8/8 [==============================] - 1s 114ms/step\n",
            "8/8 [==============================] - 1s 113ms/step\n",
            "score 1.4316797 0.17574733\n"
          ]
        }
      ]
    }
  ]
}
